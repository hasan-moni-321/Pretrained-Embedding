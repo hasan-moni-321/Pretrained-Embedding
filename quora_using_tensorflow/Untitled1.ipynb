{
  "nbformat": 4,
  "nbformat_minor": 0,
  "metadata": {
    "accelerator": "GPU",
    "colab": {
      "name": "Untitled1.ipynb",
      "provenance": [],
      "collapsed_sections": [],
      "toc_visible": true
    },
    "kernelspec": {
      "display_name": "Python 3",
      "name": "python3"
    },
    "language_info": {
      "name": "python"
    }
  },
  "cells": [
    {
      "cell_type": "code",
      "metadata": {
        "id": "UACj9HvRJWtb"
      },
      "source": [
        "import numpy as np \n",
        "import pandas as pd \n",
        "import seaborn as sns\n",
        "import matplotlib.pyplot as plt\n",
        "import plotly.graph_objs as go\n",
        "import plotly.offline as py\n",
        "\n",
        "import os, time, math, string, re\n",
        "\n",
        "from tqdm import tqdm\n",
        "\n",
        "from nltk.corpus import stopwords\n",
        "from nltk.stem.porter import PorterStemmer\n",
        "\n",
        "from sklearn.model_selection import train_test_split\n",
        "from sklearn.metrics import f1_score\n",
        "\n",
        "from tensorflow.keras.preprocessing.text import Tokenizer\n",
        "from tensorflow.keras.preprocessing.sequence import pad_sequences\n",
        "from tensorflow.keras.layers import Input, Embedding, LSTM, Dropout, Dense, Bidirectional, GRU, GlobalMaxPool1D  \n",
        "from tensorflow.keras.models import Model\n",
        "from tensorflow.keras.callbacks import ModelCheckpoint, ReduceLROnPlateau\n"
      ],
      "execution_count": 1,
      "outputs": []
    },
    {
      "cell_type": "code",
      "metadata": {
        "id": "RdladWIb4fTN",
        "colab": {
          "base_uri": "https://localhost:8080/"
        },
        "outputId": "7b745fe5-4f7d-4f9c-b334-a3de6ebb4a66"
      },
      "source": [
        "import nltk\n",
        "nltk.download('stopwords')"
      ],
      "execution_count": 2,
      "outputs": [
        {
          "output_type": "stream",
          "text": [
            "[nltk_data] Downloading package stopwords to /root/nltk_data...\n",
            "[nltk_data]   Unzipping corpora/stopwords.zip.\n"
          ],
          "name": "stdout"
        },
        {
          "output_type": "execute_result",
          "data": {
            "text/plain": [
              "True"
            ]
          },
          "metadata": {
            "tags": []
          },
          "execution_count": 2
        }
      ]
    },
    {
      "cell_type": "code",
      "metadata": {
        "id": "dGZKx1AJJYvn"
      },
      "source": [
        "train = pd.read_csv(\"/content/drive/MyDrive/Colab Folder/Quora Insincere Question/train.csv\") \n",
        "test = pd.read_csv(\"/content/drive/MyDrive/Colab Folder/Quora Insincere Question/test.csv\")"
      ],
      "execution_count": 3,
      "outputs": []
    },
    {
      "cell_type": "code",
      "metadata": {
        "colab": {
          "base_uri": "https://localhost:8080/",
          "height": 161
        },
        "id": "YB1xybaJJYye",
        "outputId": "15a5eb5b-6b2e-48a2-bc27-c4c67d1c6107"
      },
      "source": [
        "print(\"Shape of train is :\", train.shape)\n",
        "train.head(3)"
      ],
      "execution_count": 4,
      "outputs": [
        {
          "output_type": "stream",
          "text": [
            "Shape of train is : (1306122, 3)\n"
          ],
          "name": "stdout"
        },
        {
          "output_type": "execute_result",
          "data": {
            "text/html": [
              "<div>\n",
              "<style scoped>\n",
              "    .dataframe tbody tr th:only-of-type {\n",
              "        vertical-align: middle;\n",
              "    }\n",
              "\n",
              "    .dataframe tbody tr th {\n",
              "        vertical-align: top;\n",
              "    }\n",
              "\n",
              "    .dataframe thead th {\n",
              "        text-align: right;\n",
              "    }\n",
              "</style>\n",
              "<table border=\"1\" class=\"dataframe\">\n",
              "  <thead>\n",
              "    <tr style=\"text-align: right;\">\n",
              "      <th></th>\n",
              "      <th>qid</th>\n",
              "      <th>question_text</th>\n",
              "      <th>target</th>\n",
              "    </tr>\n",
              "  </thead>\n",
              "  <tbody>\n",
              "    <tr>\n",
              "      <th>0</th>\n",
              "      <td>00002165364db923c7e6</td>\n",
              "      <td>How did Quebec nationalists see their province...</td>\n",
              "      <td>0</td>\n",
              "    </tr>\n",
              "    <tr>\n",
              "      <th>1</th>\n",
              "      <td>000032939017120e6e44</td>\n",
              "      <td>Do you have an adopted dog, how would you enco...</td>\n",
              "      <td>0</td>\n",
              "    </tr>\n",
              "    <tr>\n",
              "      <th>2</th>\n",
              "      <td>0000412ca6e4628ce2cf</td>\n",
              "      <td>Why does velocity affect time? Does velocity a...</td>\n",
              "      <td>0</td>\n",
              "    </tr>\n",
              "  </tbody>\n",
              "</table>\n",
              "</div>"
            ],
            "text/plain": [
              "                    qid  ... target\n",
              "0  00002165364db923c7e6  ...      0\n",
              "1  000032939017120e6e44  ...      0\n",
              "2  0000412ca6e4628ce2cf  ...      0\n",
              "\n",
              "[3 rows x 3 columns]"
            ]
          },
          "metadata": {
            "tags": []
          },
          "execution_count": 4
        }
      ]
    },
    {
      "cell_type": "code",
      "metadata": {
        "colab": {
          "base_uri": "https://localhost:8080/",
          "height": 161
        },
        "id": "eHxFiUY5JY02",
        "outputId": "0cda0d53-dff7-42e6-da18-487defbc760f"
      },
      "source": [
        "print(\"Shape of test is :\", test.shape)\n",
        "test.head(3) "
      ],
      "execution_count": 5,
      "outputs": [
        {
          "output_type": "stream",
          "text": [
            "Shape of test is : (375806, 2)\n"
          ],
          "name": "stdout"
        },
        {
          "output_type": "execute_result",
          "data": {
            "text/html": [
              "<div>\n",
              "<style scoped>\n",
              "    .dataframe tbody tr th:only-of-type {\n",
              "        vertical-align: middle;\n",
              "    }\n",
              "\n",
              "    .dataframe tbody tr th {\n",
              "        vertical-align: top;\n",
              "    }\n",
              "\n",
              "    .dataframe thead th {\n",
              "        text-align: right;\n",
              "    }\n",
              "</style>\n",
              "<table border=\"1\" class=\"dataframe\">\n",
              "  <thead>\n",
              "    <tr style=\"text-align: right;\">\n",
              "      <th></th>\n",
              "      <th>qid</th>\n",
              "      <th>question_text</th>\n",
              "    </tr>\n",
              "  </thead>\n",
              "  <tbody>\n",
              "    <tr>\n",
              "      <th>0</th>\n",
              "      <td>0000163e3ea7c7a74cd7</td>\n",
              "      <td>Why do so many women become so rude and arroga...</td>\n",
              "    </tr>\n",
              "    <tr>\n",
              "      <th>1</th>\n",
              "      <td>00002bd4fb5d505b9161</td>\n",
              "      <td>When should I apply for RV college of engineer...</td>\n",
              "    </tr>\n",
              "    <tr>\n",
              "      <th>2</th>\n",
              "      <td>00007756b4a147d2b0b3</td>\n",
              "      <td>What is it really like to be a nurse practitio...</td>\n",
              "    </tr>\n",
              "  </tbody>\n",
              "</table>\n",
              "</div>"
            ],
            "text/plain": [
              "                    qid                                      question_text\n",
              "0  0000163e3ea7c7a74cd7  Why do so many women become so rude and arroga...\n",
              "1  00002bd4fb5d505b9161  When should I apply for RV college of engineer...\n",
              "2  00007756b4a147d2b0b3  What is it really like to be a nurse practitio..."
            ]
          },
          "metadata": {
            "tags": []
          },
          "execution_count": 5
        }
      ]
    },
    {
      "cell_type": "code",
      "metadata": {
        "colab": {
          "base_uri": "https://localhost:8080/",
          "height": 542
        },
        "id": "msyEa3maJY3p",
        "outputId": "a983156a-521d-4544-8cc4-4b55e7221946"
      },
      "source": [
        "target_count = train['target'].value_counts()\n",
        "\n",
        "trace = go.Bar(\n",
        "    x=target_count.index,\n",
        "    y=target_count.values,\n",
        "    marker=dict(\n",
        "        color=target_count.values,\n",
        "        colorscale='Picnic',\n",
        "        reversescale=True\n",
        "    ),\n",
        ")\n",
        "\n",
        "layout = go.Layout(\n",
        "    title='Target Count',\n",
        "    font=dict(size=18)\n",
        ")\n",
        "\n",
        "data = [trace]\n",
        "fig = go.Figure(data=data, layout=layout)\n",
        "py.iplot(fig, filename='TargetCount')"
      ],
      "execution_count": 6,
      "outputs": [
        {
          "output_type": "display_data",
          "data": {
            "text/html": [
              "<html>\n",
              "<head><meta charset=\"utf-8\" /></head>\n",
              "<body>\n",
              "    <div>\n",
              "            <script src=\"https://cdnjs.cloudflare.com/ajax/libs/mathjax/2.7.5/MathJax.js?config=TeX-AMS-MML_SVG\"></script><script type=\"text/javascript\">if (window.MathJax) {MathJax.Hub.Config({SVG: {font: \"STIX-Web\"}});}</script>\n",
              "                <script type=\"text/javascript\">window.PlotlyConfig = {MathJaxConfig: 'local'};</script>\n",
              "        <script src=\"https://cdn.plot.ly/plotly-latest.min.js\"></script>    \n",
              "            <div id=\"1fe7a9a3-08e8-4b02-b862-40281435416c\" class=\"plotly-graph-div\" style=\"height:525px; width:100%;\"></div>\n",
              "            <script type=\"text/javascript\">\n",
              "                \n",
              "                    window.PLOTLYENV=window.PLOTLYENV || {};\n",
              "                    \n",
              "                if (document.getElementById(\"1fe7a9a3-08e8-4b02-b862-40281435416c\")) {\n",
              "                    Plotly.newPlot(\n",
              "                        '1fe7a9a3-08e8-4b02-b862-40281435416c',\n",
              "                        [{\"marker\": {\"color\": [1225312, 80810], \"colorscale\": [[0.0, \"rgb(0,0,255)\"], [0.1, \"rgb(51,153,255)\"], [0.2, \"rgb(102,204,255)\"], [0.3, \"rgb(153,204,255)\"], [0.4, \"rgb(204,204,255)\"], [0.5, \"rgb(255,255,255)\"], [0.6, \"rgb(255,204,255)\"], [0.7, \"rgb(255,153,255)\"], [0.8, \"rgb(255,102,204)\"], [0.9, \"rgb(255,102,102)\"], [1.0, \"rgb(255,0,0)\"]], \"reversescale\": true}, \"type\": \"bar\", \"x\": [0, 1], \"y\": [1225312, 80810]}],\n",
              "                        {\"font\": {\"size\": 18}, \"template\": {\"data\": {\"bar\": [{\"error_x\": {\"color\": \"#2a3f5f\"}, \"error_y\": {\"color\": \"#2a3f5f\"}, \"marker\": {\"line\": {\"color\": \"#E5ECF6\", \"width\": 0.5}}, \"type\": \"bar\"}], \"barpolar\": [{\"marker\": {\"line\": {\"color\": \"#E5ECF6\", \"width\": 0.5}}, \"type\": \"barpolar\"}], \"carpet\": [{\"aaxis\": {\"endlinecolor\": \"#2a3f5f\", \"gridcolor\": \"white\", \"linecolor\": \"white\", \"minorgridcolor\": \"white\", \"startlinecolor\": \"#2a3f5f\"}, \"baxis\": {\"endlinecolor\": \"#2a3f5f\", \"gridcolor\": \"white\", \"linecolor\": \"white\", \"minorgridcolor\": \"white\", \"startlinecolor\": \"#2a3f5f\"}, \"type\": \"carpet\"}], \"choropleth\": [{\"colorbar\": {\"outlinewidth\": 0, \"ticks\": \"\"}, \"type\": \"choropleth\"}], \"contour\": [{\"colorbar\": {\"outlinewidth\": 0, \"ticks\": \"\"}, \"colorscale\": [[0.0, \"#0d0887\"], [0.1111111111111111, \"#46039f\"], [0.2222222222222222, \"#7201a8\"], [0.3333333333333333, \"#9c179e\"], [0.4444444444444444, \"#bd3786\"], [0.5555555555555556, \"#d8576b\"], [0.6666666666666666, \"#ed7953\"], [0.7777777777777778, \"#fb9f3a\"], [0.8888888888888888, \"#fdca26\"], [1.0, \"#f0f921\"]], \"type\": \"contour\"}], \"contourcarpet\": [{\"colorbar\": {\"outlinewidth\": 0, \"ticks\": \"\"}, \"type\": \"contourcarpet\"}], \"heatmap\": [{\"colorbar\": {\"outlinewidth\": 0, \"ticks\": \"\"}, \"colorscale\": [[0.0, \"#0d0887\"], [0.1111111111111111, \"#46039f\"], [0.2222222222222222, \"#7201a8\"], [0.3333333333333333, \"#9c179e\"], [0.4444444444444444, \"#bd3786\"], [0.5555555555555556, \"#d8576b\"], [0.6666666666666666, \"#ed7953\"], [0.7777777777777778, \"#fb9f3a\"], [0.8888888888888888, \"#fdca26\"], [1.0, \"#f0f921\"]], \"type\": \"heatmap\"}], \"heatmapgl\": [{\"colorbar\": {\"outlinewidth\": 0, \"ticks\": \"\"}, \"colorscale\": [[0.0, \"#0d0887\"], [0.1111111111111111, \"#46039f\"], [0.2222222222222222, \"#7201a8\"], [0.3333333333333333, \"#9c179e\"], [0.4444444444444444, \"#bd3786\"], [0.5555555555555556, \"#d8576b\"], [0.6666666666666666, \"#ed7953\"], [0.7777777777777778, \"#fb9f3a\"], [0.8888888888888888, \"#fdca26\"], [1.0, \"#f0f921\"]], \"type\": \"heatmapgl\"}], \"histogram\": [{\"marker\": {\"colorbar\": {\"outlinewidth\": 0, \"ticks\": \"\"}}, \"type\": \"histogram\"}], \"histogram2d\": [{\"colorbar\": {\"outlinewidth\": 0, \"ticks\": \"\"}, \"colorscale\": [[0.0, \"#0d0887\"], [0.1111111111111111, \"#46039f\"], [0.2222222222222222, \"#7201a8\"], [0.3333333333333333, \"#9c179e\"], [0.4444444444444444, \"#bd3786\"], [0.5555555555555556, \"#d8576b\"], [0.6666666666666666, \"#ed7953\"], [0.7777777777777778, \"#fb9f3a\"], [0.8888888888888888, \"#fdca26\"], [1.0, \"#f0f921\"]], \"type\": \"histogram2d\"}], \"histogram2dcontour\": [{\"colorbar\": {\"outlinewidth\": 0, \"ticks\": \"\"}, \"colorscale\": [[0.0, \"#0d0887\"], [0.1111111111111111, \"#46039f\"], [0.2222222222222222, \"#7201a8\"], [0.3333333333333333, \"#9c179e\"], [0.4444444444444444, \"#bd3786\"], [0.5555555555555556, \"#d8576b\"], [0.6666666666666666, \"#ed7953\"], [0.7777777777777778, \"#fb9f3a\"], [0.8888888888888888, \"#fdca26\"], [1.0, \"#f0f921\"]], \"type\": \"histogram2dcontour\"}], \"mesh3d\": [{\"colorbar\": {\"outlinewidth\": 0, \"ticks\": \"\"}, \"type\": \"mesh3d\"}], \"parcoords\": [{\"line\": {\"colorbar\": {\"outlinewidth\": 0, \"ticks\": \"\"}}, \"type\": \"parcoords\"}], \"pie\": [{\"automargin\": true, \"type\": \"pie\"}], \"scatter\": [{\"marker\": {\"colorbar\": {\"outlinewidth\": 0, \"ticks\": \"\"}}, \"type\": \"scatter\"}], \"scatter3d\": [{\"line\": {\"colorbar\": {\"outlinewidth\": 0, \"ticks\": \"\"}}, \"marker\": {\"colorbar\": {\"outlinewidth\": 0, \"ticks\": \"\"}}, \"type\": \"scatter3d\"}], \"scattercarpet\": [{\"marker\": {\"colorbar\": {\"outlinewidth\": 0, \"ticks\": \"\"}}, \"type\": \"scattercarpet\"}], \"scattergeo\": [{\"marker\": {\"colorbar\": {\"outlinewidth\": 0, \"ticks\": \"\"}}, \"type\": \"scattergeo\"}], \"scattergl\": [{\"marker\": {\"colorbar\": {\"outlinewidth\": 0, \"ticks\": \"\"}}, \"type\": \"scattergl\"}], \"scattermapbox\": [{\"marker\": {\"colorbar\": {\"outlinewidth\": 0, \"ticks\": \"\"}}, \"type\": \"scattermapbox\"}], \"scatterpolar\": [{\"marker\": {\"colorbar\": {\"outlinewidth\": 0, \"ticks\": \"\"}}, \"type\": \"scatterpolar\"}], \"scatterpolargl\": [{\"marker\": {\"colorbar\": {\"outlinewidth\": 0, \"ticks\": \"\"}}, \"type\": \"scatterpolargl\"}], \"scatterternary\": [{\"marker\": {\"colorbar\": {\"outlinewidth\": 0, \"ticks\": \"\"}}, \"type\": \"scatterternary\"}], \"surface\": [{\"colorbar\": {\"outlinewidth\": 0, \"ticks\": \"\"}, \"colorscale\": [[0.0, \"#0d0887\"], [0.1111111111111111, \"#46039f\"], [0.2222222222222222, \"#7201a8\"], [0.3333333333333333, \"#9c179e\"], [0.4444444444444444, \"#bd3786\"], [0.5555555555555556, \"#d8576b\"], [0.6666666666666666, \"#ed7953\"], [0.7777777777777778, \"#fb9f3a\"], [0.8888888888888888, \"#fdca26\"], [1.0, \"#f0f921\"]], \"type\": \"surface\"}], \"table\": [{\"cells\": {\"fill\": {\"color\": \"#EBF0F8\"}, \"line\": {\"color\": \"white\"}}, \"header\": {\"fill\": {\"color\": \"#C8D4E3\"}, \"line\": {\"color\": \"white\"}}, \"type\": \"table\"}]}, \"layout\": {\"annotationdefaults\": {\"arrowcolor\": \"#2a3f5f\", \"arrowhead\": 0, \"arrowwidth\": 1}, \"coloraxis\": {\"colorbar\": {\"outlinewidth\": 0, \"ticks\": \"\"}}, \"colorscale\": {\"diverging\": [[0, \"#8e0152\"], [0.1, \"#c51b7d\"], [0.2, \"#de77ae\"], [0.3, \"#f1b6da\"], [0.4, \"#fde0ef\"], [0.5, \"#f7f7f7\"], [0.6, \"#e6f5d0\"], [0.7, \"#b8e186\"], [0.8, \"#7fbc41\"], [0.9, \"#4d9221\"], [1, \"#276419\"]], \"sequential\": [[0.0, \"#0d0887\"], [0.1111111111111111, \"#46039f\"], [0.2222222222222222, \"#7201a8\"], [0.3333333333333333, \"#9c179e\"], [0.4444444444444444, \"#bd3786\"], [0.5555555555555556, \"#d8576b\"], [0.6666666666666666, \"#ed7953\"], [0.7777777777777778, \"#fb9f3a\"], [0.8888888888888888, \"#fdca26\"], [1.0, \"#f0f921\"]], \"sequentialminus\": [[0.0, \"#0d0887\"], [0.1111111111111111, \"#46039f\"], [0.2222222222222222, \"#7201a8\"], [0.3333333333333333, \"#9c179e\"], [0.4444444444444444, \"#bd3786\"], [0.5555555555555556, \"#d8576b\"], [0.6666666666666666, \"#ed7953\"], [0.7777777777777778, \"#fb9f3a\"], [0.8888888888888888, \"#fdca26\"], [1.0, \"#f0f921\"]]}, \"colorway\": [\"#636efa\", \"#EF553B\", \"#00cc96\", \"#ab63fa\", \"#FFA15A\", \"#19d3f3\", \"#FF6692\", \"#B6E880\", \"#FF97FF\", \"#FECB52\"], \"font\": {\"color\": \"#2a3f5f\"}, \"geo\": {\"bgcolor\": \"white\", \"lakecolor\": \"white\", \"landcolor\": \"#E5ECF6\", \"showlakes\": true, \"showland\": true, \"subunitcolor\": \"white\"}, \"hoverlabel\": {\"align\": \"left\"}, \"hovermode\": \"closest\", \"mapbox\": {\"style\": \"light\"}, \"paper_bgcolor\": \"white\", \"plot_bgcolor\": \"#E5ECF6\", \"polar\": {\"angularaxis\": {\"gridcolor\": \"white\", \"linecolor\": \"white\", \"ticks\": \"\"}, \"bgcolor\": \"#E5ECF6\", \"radialaxis\": {\"gridcolor\": \"white\", \"linecolor\": \"white\", \"ticks\": \"\"}}, \"scene\": {\"xaxis\": {\"backgroundcolor\": \"#E5ECF6\", \"gridcolor\": \"white\", \"gridwidth\": 2, \"linecolor\": \"white\", \"showbackground\": true, \"ticks\": \"\", \"zerolinecolor\": \"white\"}, \"yaxis\": {\"backgroundcolor\": \"#E5ECF6\", \"gridcolor\": \"white\", \"gridwidth\": 2, \"linecolor\": \"white\", \"showbackground\": true, \"ticks\": \"\", \"zerolinecolor\": \"white\"}, \"zaxis\": {\"backgroundcolor\": \"#E5ECF6\", \"gridcolor\": \"white\", \"gridwidth\": 2, \"linecolor\": \"white\", \"showbackground\": true, \"ticks\": \"\", \"zerolinecolor\": \"white\"}}, \"shapedefaults\": {\"line\": {\"color\": \"#2a3f5f\"}}, \"ternary\": {\"aaxis\": {\"gridcolor\": \"white\", \"linecolor\": \"white\", \"ticks\": \"\"}, \"baxis\": {\"gridcolor\": \"white\", \"linecolor\": \"white\", \"ticks\": \"\"}, \"bgcolor\": \"#E5ECF6\", \"caxis\": {\"gridcolor\": \"white\", \"linecolor\": \"white\", \"ticks\": \"\"}}, \"title\": {\"x\": 0.05}, \"xaxis\": {\"automargin\": true, \"gridcolor\": \"white\", \"linecolor\": \"white\", \"ticks\": \"\", \"title\": {\"standoff\": 15}, \"zerolinecolor\": \"white\", \"zerolinewidth\": 2}, \"yaxis\": {\"automargin\": true, \"gridcolor\": \"white\", \"linecolor\": \"white\", \"ticks\": \"\", \"title\": {\"standoff\": 15}, \"zerolinecolor\": \"white\", \"zerolinewidth\": 2}}}, \"title\": {\"text\": \"Target Count\"}},\n",
              "                        {\"responsive\": true}\n",
              "                    ).then(function(){\n",
              "                            \n",
              "var gd = document.getElementById('1fe7a9a3-08e8-4b02-b862-40281435416c');\n",
              "var x = new MutationObserver(function (mutations, observer) {{\n",
              "        var display = window.getComputedStyle(gd).display;\n",
              "        if (!display || display === 'none') {{\n",
              "            console.log([gd, 'removed!']);\n",
              "            Plotly.purge(gd);\n",
              "            observer.disconnect();\n",
              "        }}\n",
              "}});\n",
              "\n",
              "// Listen for the removal of the full notebook cells\n",
              "var notebookContainer = gd.closest('#notebook-container');\n",
              "if (notebookContainer) {{\n",
              "    x.observe(notebookContainer, {childList: true});\n",
              "}}\n",
              "\n",
              "// Listen for the clearing of the current output cell\n",
              "var outputEl = gd.closest('.output');\n",
              "if (outputEl) {{\n",
              "    x.observe(outputEl, {childList: true});\n",
              "}}\n",
              "\n",
              "                        })\n",
              "                };\n",
              "                \n",
              "            </script>\n",
              "        </div>\n",
              "</body>\n",
              "</html>"
            ]
          },
          "metadata": {
            "tags": []
          }
        }
      ]
    },
    {
      "cell_type": "code",
      "metadata": {
        "colab": {
          "base_uri": "https://localhost:8080/",
          "height": 617
        },
        "id": "zrQ3dbIQJY6V",
        "outputId": "5fa47014-6668-4bd3-afb2-a449fcdd8e09"
      },
      "source": [
        "labels = (np.array(target_count.index))\n",
        "sizes = (np.array((target_count/target_count.sum()) * 100))\n",
        "\n",
        "trace = go.Pie(labels=labels, values=sizes)\n",
        "layout = go.Layout(\n",
        "    title='Target distribution',\n",
        "    font=dict(size=18),\n",
        "    width=600,\n",
        "    height=600\n",
        ")\n",
        "\n",
        "data = [trace]\n",
        "fig = go.Figure(data=data, layout=layout)\n",
        "py.iplot(fig, filename='usertype')"
      ],
      "execution_count": 7,
      "outputs": [
        {
          "output_type": "display_data",
          "data": {
            "text/html": [
              "<html>\n",
              "<head><meta charset=\"utf-8\" /></head>\n",
              "<body>\n",
              "    <div>\n",
              "            <script src=\"https://cdnjs.cloudflare.com/ajax/libs/mathjax/2.7.5/MathJax.js?config=TeX-AMS-MML_SVG\"></script><script type=\"text/javascript\">if (window.MathJax) {MathJax.Hub.Config({SVG: {font: \"STIX-Web\"}});}</script>\n",
              "                <script type=\"text/javascript\">window.PlotlyConfig = {MathJaxConfig: 'local'};</script>\n",
              "        <script src=\"https://cdn.plot.ly/plotly-latest.min.js\"></script>    \n",
              "            <div id=\"3f0cedd4-7b7d-4307-816e-f095736ab7ec\" class=\"plotly-graph-div\" style=\"height:600px; width:600px;\"></div>\n",
              "            <script type=\"text/javascript\">\n",
              "                \n",
              "                    window.PLOTLYENV=window.PLOTLYENV || {};\n",
              "                    \n",
              "                if (document.getElementById(\"3f0cedd4-7b7d-4307-816e-f095736ab7ec\")) {\n",
              "                    Plotly.newPlot(\n",
              "                        '3f0cedd4-7b7d-4307-816e-f095736ab7ec',\n",
              "                        [{\"labels\": [0, 1], \"type\": \"pie\", \"values\": [93.81298224821265, 6.187017751787352]}],\n",
              "                        {\"font\": {\"size\": 18}, \"height\": 600, \"template\": {\"data\": {\"bar\": [{\"error_x\": {\"color\": \"#2a3f5f\"}, \"error_y\": {\"color\": \"#2a3f5f\"}, \"marker\": {\"line\": {\"color\": \"#E5ECF6\", \"width\": 0.5}}, \"type\": \"bar\"}], \"barpolar\": [{\"marker\": {\"line\": {\"color\": \"#E5ECF6\", \"width\": 0.5}}, \"type\": \"barpolar\"}], \"carpet\": [{\"aaxis\": {\"endlinecolor\": \"#2a3f5f\", \"gridcolor\": \"white\", \"linecolor\": \"white\", \"minorgridcolor\": \"white\", \"startlinecolor\": \"#2a3f5f\"}, \"baxis\": {\"endlinecolor\": \"#2a3f5f\", \"gridcolor\": \"white\", \"linecolor\": \"white\", \"minorgridcolor\": \"white\", \"startlinecolor\": \"#2a3f5f\"}, \"type\": \"carpet\"}], \"choropleth\": [{\"colorbar\": {\"outlinewidth\": 0, \"ticks\": \"\"}, \"type\": \"choropleth\"}], \"contour\": [{\"colorbar\": {\"outlinewidth\": 0, \"ticks\": \"\"}, \"colorscale\": [[0.0, \"#0d0887\"], [0.1111111111111111, \"#46039f\"], [0.2222222222222222, \"#7201a8\"], [0.3333333333333333, \"#9c179e\"], [0.4444444444444444, \"#bd3786\"], [0.5555555555555556, \"#d8576b\"], [0.6666666666666666, \"#ed7953\"], [0.7777777777777778, \"#fb9f3a\"], [0.8888888888888888, \"#fdca26\"], [1.0, \"#f0f921\"]], \"type\": \"contour\"}], \"contourcarpet\": [{\"colorbar\": {\"outlinewidth\": 0, \"ticks\": \"\"}, \"type\": \"contourcarpet\"}], \"heatmap\": [{\"colorbar\": {\"outlinewidth\": 0, \"ticks\": \"\"}, \"colorscale\": [[0.0, \"#0d0887\"], [0.1111111111111111, \"#46039f\"], [0.2222222222222222, \"#7201a8\"], [0.3333333333333333, \"#9c179e\"], [0.4444444444444444, \"#bd3786\"], [0.5555555555555556, \"#d8576b\"], [0.6666666666666666, \"#ed7953\"], [0.7777777777777778, \"#fb9f3a\"], [0.8888888888888888, \"#fdca26\"], [1.0, \"#f0f921\"]], \"type\": \"heatmap\"}], \"heatmapgl\": [{\"colorbar\": {\"outlinewidth\": 0, \"ticks\": \"\"}, \"colorscale\": [[0.0, \"#0d0887\"], [0.1111111111111111, \"#46039f\"], [0.2222222222222222, \"#7201a8\"], [0.3333333333333333, \"#9c179e\"], [0.4444444444444444, \"#bd3786\"], [0.5555555555555556, \"#d8576b\"], [0.6666666666666666, \"#ed7953\"], [0.7777777777777778, \"#fb9f3a\"], [0.8888888888888888, \"#fdca26\"], [1.0, \"#f0f921\"]], \"type\": \"heatmapgl\"}], \"histogram\": [{\"marker\": {\"colorbar\": {\"outlinewidth\": 0, \"ticks\": \"\"}}, \"type\": \"histogram\"}], \"histogram2d\": [{\"colorbar\": {\"outlinewidth\": 0, \"ticks\": \"\"}, \"colorscale\": [[0.0, \"#0d0887\"], [0.1111111111111111, \"#46039f\"], [0.2222222222222222, \"#7201a8\"], [0.3333333333333333, \"#9c179e\"], [0.4444444444444444, \"#bd3786\"], [0.5555555555555556, \"#d8576b\"], [0.6666666666666666, \"#ed7953\"], [0.7777777777777778, \"#fb9f3a\"], [0.8888888888888888, \"#fdca26\"], [1.0, \"#f0f921\"]], \"type\": \"histogram2d\"}], \"histogram2dcontour\": [{\"colorbar\": {\"outlinewidth\": 0, \"ticks\": \"\"}, \"colorscale\": [[0.0, \"#0d0887\"], [0.1111111111111111, \"#46039f\"], [0.2222222222222222, \"#7201a8\"], [0.3333333333333333, \"#9c179e\"], [0.4444444444444444, \"#bd3786\"], [0.5555555555555556, \"#d8576b\"], [0.6666666666666666, \"#ed7953\"], [0.7777777777777778, \"#fb9f3a\"], [0.8888888888888888, \"#fdca26\"], [1.0, \"#f0f921\"]], \"type\": \"histogram2dcontour\"}], \"mesh3d\": [{\"colorbar\": {\"outlinewidth\": 0, \"ticks\": \"\"}, \"type\": \"mesh3d\"}], \"parcoords\": [{\"line\": {\"colorbar\": {\"outlinewidth\": 0, \"ticks\": \"\"}}, \"type\": \"parcoords\"}], \"pie\": [{\"automargin\": true, \"type\": \"pie\"}], \"scatter\": [{\"marker\": {\"colorbar\": {\"outlinewidth\": 0, \"ticks\": \"\"}}, \"type\": \"scatter\"}], \"scatter3d\": [{\"line\": {\"colorbar\": {\"outlinewidth\": 0, \"ticks\": \"\"}}, \"marker\": {\"colorbar\": {\"outlinewidth\": 0, \"ticks\": \"\"}}, \"type\": \"scatter3d\"}], \"scattercarpet\": [{\"marker\": {\"colorbar\": {\"outlinewidth\": 0, \"ticks\": \"\"}}, \"type\": \"scattercarpet\"}], \"scattergeo\": [{\"marker\": {\"colorbar\": {\"outlinewidth\": 0, \"ticks\": \"\"}}, \"type\": \"scattergeo\"}], \"scattergl\": [{\"marker\": {\"colorbar\": {\"outlinewidth\": 0, \"ticks\": \"\"}}, \"type\": \"scattergl\"}], \"scattermapbox\": [{\"marker\": {\"colorbar\": {\"outlinewidth\": 0, \"ticks\": \"\"}}, \"type\": \"scattermapbox\"}], \"scatterpolar\": [{\"marker\": {\"colorbar\": {\"outlinewidth\": 0, \"ticks\": \"\"}}, \"type\": \"scatterpolar\"}], \"scatterpolargl\": [{\"marker\": {\"colorbar\": {\"outlinewidth\": 0, \"ticks\": \"\"}}, \"type\": \"scatterpolargl\"}], \"scatterternary\": [{\"marker\": {\"colorbar\": {\"outlinewidth\": 0, \"ticks\": \"\"}}, \"type\": \"scatterternary\"}], \"surface\": [{\"colorbar\": {\"outlinewidth\": 0, \"ticks\": \"\"}, \"colorscale\": [[0.0, \"#0d0887\"], [0.1111111111111111, \"#46039f\"], [0.2222222222222222, \"#7201a8\"], [0.3333333333333333, \"#9c179e\"], [0.4444444444444444, \"#bd3786\"], [0.5555555555555556, \"#d8576b\"], [0.6666666666666666, \"#ed7953\"], [0.7777777777777778, \"#fb9f3a\"], [0.8888888888888888, \"#fdca26\"], [1.0, \"#f0f921\"]], \"type\": \"surface\"}], \"table\": [{\"cells\": {\"fill\": {\"color\": \"#EBF0F8\"}, \"line\": {\"color\": \"white\"}}, \"header\": {\"fill\": {\"color\": \"#C8D4E3\"}, \"line\": {\"color\": \"white\"}}, \"type\": \"table\"}]}, \"layout\": {\"annotationdefaults\": {\"arrowcolor\": \"#2a3f5f\", \"arrowhead\": 0, \"arrowwidth\": 1}, \"coloraxis\": {\"colorbar\": {\"outlinewidth\": 0, \"ticks\": \"\"}}, \"colorscale\": {\"diverging\": [[0, \"#8e0152\"], [0.1, \"#c51b7d\"], [0.2, \"#de77ae\"], [0.3, \"#f1b6da\"], [0.4, \"#fde0ef\"], [0.5, \"#f7f7f7\"], [0.6, \"#e6f5d0\"], [0.7, \"#b8e186\"], [0.8, \"#7fbc41\"], [0.9, \"#4d9221\"], [1, \"#276419\"]], \"sequential\": [[0.0, \"#0d0887\"], [0.1111111111111111, \"#46039f\"], [0.2222222222222222, \"#7201a8\"], [0.3333333333333333, \"#9c179e\"], [0.4444444444444444, \"#bd3786\"], [0.5555555555555556, \"#d8576b\"], [0.6666666666666666, \"#ed7953\"], [0.7777777777777778, \"#fb9f3a\"], [0.8888888888888888, \"#fdca26\"], [1.0, \"#f0f921\"]], \"sequentialminus\": [[0.0, \"#0d0887\"], [0.1111111111111111, \"#46039f\"], [0.2222222222222222, \"#7201a8\"], [0.3333333333333333, \"#9c179e\"], [0.4444444444444444, \"#bd3786\"], [0.5555555555555556, \"#d8576b\"], [0.6666666666666666, \"#ed7953\"], [0.7777777777777778, \"#fb9f3a\"], [0.8888888888888888, \"#fdca26\"], [1.0, \"#f0f921\"]]}, \"colorway\": [\"#636efa\", \"#EF553B\", \"#00cc96\", \"#ab63fa\", \"#FFA15A\", \"#19d3f3\", \"#FF6692\", \"#B6E880\", \"#FF97FF\", \"#FECB52\"], \"font\": {\"color\": \"#2a3f5f\"}, \"geo\": {\"bgcolor\": \"white\", \"lakecolor\": \"white\", \"landcolor\": \"#E5ECF6\", \"showlakes\": true, \"showland\": true, \"subunitcolor\": \"white\"}, \"hoverlabel\": {\"align\": \"left\"}, \"hovermode\": \"closest\", \"mapbox\": {\"style\": \"light\"}, \"paper_bgcolor\": \"white\", \"plot_bgcolor\": \"#E5ECF6\", \"polar\": {\"angularaxis\": {\"gridcolor\": \"white\", \"linecolor\": \"white\", \"ticks\": \"\"}, \"bgcolor\": \"#E5ECF6\", \"radialaxis\": {\"gridcolor\": \"white\", \"linecolor\": \"white\", \"ticks\": \"\"}}, \"scene\": {\"xaxis\": {\"backgroundcolor\": \"#E5ECF6\", \"gridcolor\": \"white\", \"gridwidth\": 2, \"linecolor\": \"white\", \"showbackground\": true, \"ticks\": \"\", \"zerolinecolor\": \"white\"}, \"yaxis\": {\"backgroundcolor\": \"#E5ECF6\", \"gridcolor\": \"white\", \"gridwidth\": 2, \"linecolor\": \"white\", \"showbackground\": true, \"ticks\": \"\", \"zerolinecolor\": \"white\"}, \"zaxis\": {\"backgroundcolor\": \"#E5ECF6\", \"gridcolor\": \"white\", \"gridwidth\": 2, \"linecolor\": \"white\", \"showbackground\": true, \"ticks\": \"\", \"zerolinecolor\": \"white\"}}, \"shapedefaults\": {\"line\": {\"color\": \"#2a3f5f\"}}, \"ternary\": {\"aaxis\": {\"gridcolor\": \"white\", \"linecolor\": \"white\", \"ticks\": \"\"}, \"baxis\": {\"gridcolor\": \"white\", \"linecolor\": \"white\", \"ticks\": \"\"}, \"bgcolor\": \"#E5ECF6\", \"caxis\": {\"gridcolor\": \"white\", \"linecolor\": \"white\", \"ticks\": \"\"}}, \"title\": {\"x\": 0.05}, \"xaxis\": {\"automargin\": true, \"gridcolor\": \"white\", \"linecolor\": \"white\", \"ticks\": \"\", \"title\": {\"standoff\": 15}, \"zerolinecolor\": \"white\", \"zerolinewidth\": 2}, \"yaxis\": {\"automargin\": true, \"gridcolor\": \"white\", \"linecolor\": \"white\", \"ticks\": \"\", \"title\": {\"standoff\": 15}, \"zerolinecolor\": \"white\", \"zerolinewidth\": 2}}}, \"title\": {\"text\": \"Target distribution\"}, \"width\": 600},\n",
              "                        {\"responsive\": true}\n",
              "                    ).then(function(){\n",
              "                            \n",
              "var gd = document.getElementById('3f0cedd4-7b7d-4307-816e-f095736ab7ec');\n",
              "var x = new MutationObserver(function (mutations, observer) {{\n",
              "        var display = window.getComputedStyle(gd).display;\n",
              "        if (!display || display === 'none') {{\n",
              "            console.log([gd, 'removed!']);\n",
              "            Plotly.purge(gd);\n",
              "            observer.disconnect();\n",
              "        }}\n",
              "}});\n",
              "\n",
              "// Listen for the removal of the full notebook cells\n",
              "var notebookContainer = gd.closest('#notebook-container');\n",
              "if (notebookContainer) {{\n",
              "    x.observe(notebookContainer, {childList: true});\n",
              "}}\n",
              "\n",
              "// Listen for the clearing of the current output cell\n",
              "var outputEl = gd.closest('.output');\n",
              "if (outputEl) {{\n",
              "    x.observe(outputEl, {childList: true});\n",
              "}}\n",
              "\n",
              "                        })\n",
              "                };\n",
              "                \n",
              "            </script>\n",
              "        </div>\n",
              "</body>\n",
              "</html>"
            ]
          },
          "metadata": {
            "tags": []
          }
        }
      ]
    },
    {
      "cell_type": "markdown",
      "metadata": {
        "id": "H5yw9BK0Juc8"
      },
      "source": [
        "# Data Preprocessing for Embedding"
      ]
    },
    {
      "cell_type": "markdown",
      "metadata": {
        "id": "Exe4d-e3Jy9P"
      },
      "source": [
        "I want to illustrate how I do come up with meaningful preprocessing when building deep learning NLP models.\n",
        "\n",
        "I start with two golden rules:\n",
        "### 1. Don't use standard preprocessing steps like stemming or stopword removal when you have pre-trained embeddings\n",
        "\n",
        "Some of you might used standard preprocessing steps when doing word count based feature extraction (e.g. TFIDF) such as removing stopwords, stemming etc. The reason is simple: You loose valuable information, which would help your NN to figure things out.\n",
        "### 2. Get your vocabulary as close to the embeddings as possible\n",
        "\n",
        "I will focus in this notebook, how to achieve that.\n"
      ]
    },
    {
      "cell_type": "code",
      "metadata": {
        "id": "ZkCqUq3qJY87"
      },
      "source": [
        "contraction_mapping = {\"ain't\": \"is not\", \"aren't\": \"are not\",\"can't\": \"cannot\", \n",
        "                       \"cause\": \"because\", \"could've\": \"could have\", \"couldn't\": \"could not\", \n",
        "                       \"didn't\": \"did not\",  \"doesn't\": \"does not\", \"don't\": \"do not\", \n",
        "                       \"hadn't\": \"had not\", \"hasn't\": \"has not\", \"haven't\": \"have not\", \n",
        "                       \"he'd\": \"he would\",\"he'll\": \"he will\", \"he's\": \"he is\", \n",
        "                       \"how'd\": \"how did\", \"how'd'y\": \"how do you\", \"how'll\": \"how will\", \n",
        "                       \"how's\": \"how is\",  \"I'd\": \"I would\", \"I'd've\": \"I would have\", \n",
        "                       \"I'll\": \"I will\", \"I'll've\": \"I will have\",\"I'm\": \"I am\", \n",
        "                       \"I've\": \"I have\", \"i'd\": \"i would\", \"i'd've\": \"i would have\", \n",
        "                       \"i'll\": \"i will\",  \"i'll've\": \"i will have\",\"i'm\": \"i am\", \n",
        "                       \"i've\": \"i have\", \"isn't\": \"is not\", \"it'd\": \"it would\", \n",
        "                       \"it'd've\": \"it would have\", \"it'll\": \"it will\", \n",
        "                       \"it'll've\": \"it will have\",\"it's\": \"it is\", \"let's\": \"let us\", \n",
        "                       \"ma'am\": \"madam\", \"mayn't\": \"may not\", \"might've\": \"might have\",\n",
        "                       \"mightn't\": \"might not\",\"mightn't've\": \"might not have\", \n",
        "                       \"must've\": \"must have\", \"mustn't\": \"must not\", \n",
        "                       \"mustn't've\": \"must not have\", \"needn't\": \"need not\", \n",
        "                       \"needn't've\": \"need not have\",\"o'clock\": \"of the clock\", \n",
        "                       \"oughtn't\": \"ought not\", \"oughtn't've\": \"ought not have\", \n",
        "                       \"shan't\": \"shall not\", \"sha'n't\": \"shall not\", \n",
        "                       \"shan't've\": \"shall not have\", \"she'd\": \"she would\", \n",
        "                       \"she'd've\": \"she would have\", \"she'll\": \"she will\", \n",
        "                       \"she'll've\": \"she will have\", \"she's\": \"she is\", \n",
        "                       \"should've\": \"should have\", \"shouldn't\": \"should not\", \n",
        "                       \"shouldn't've\": \"should not have\", \"so've\": \"so have\",\n",
        "                       \"so's\": \"so as\", \"this's\": \"this is\",\"that'd\": \"that would\", \n",
        "                       \"that'd've\": \"that would have\", \"that's\": \"that is\", \n",
        "                       \"there'd\": \"there would\", \"there'd've\": \"there would have\", \n",
        "                       \"there's\": \"there is\", \"here's\": \"here is\",\"they'd\": \"they would\", \n",
        "                       \"they'd've\": \"they would have\", \"they'll\": \"they will\", \n",
        "                       \"they'll've\": \"they will have\", \"they're\": \"they are\", \n",
        "                       \"they've\": \"they have\", \"to've\": \"to have\", \"wasn't\": \"was not\", \n",
        "                       \"we'd\": \"we would\", \"we'd've\": \"we would have\", \"we'll\": \"we will\", \n",
        "                       \"we'll've\": \"we will have\", \"we're\": \"we are\", \"we've\": \"we have\", \n",
        "                       \"weren't\": \"were not\", \"what'll\": \"what will\", \n",
        "                       \"what'll've\": \"what will have\", \"what're\": \"what are\",  \n",
        "                       \"what's\": \"what is\", \"what've\": \"what have\", \"when's\": \"when is\", \n",
        "                       \"when've\": \"when have\", \"where'd\": \"where did\", \"where's\": \"where is\", \n",
        "                       \"where've\": \"where have\", \"who'll\": \"who will\", \n",
        "                       \"who'll've\": \"who will have\", \"who's\": \"who is\", \"who've\": \"who have\", \n",
        "                       \"why's\": \"why is\", \"why've\": \"why have\", \"will've\": \"will have\", \n",
        "                       \"won't\": \"will not\", \"won't've\": \"will not have\", \n",
        "                       \"would've\": \"would have\", \"wouldn't\": \"would not\", \n",
        "                       \"wouldn't've\": \"would not have\", \"y'all\": \"you all\", \n",
        "                       \"y'all'd\": \"you all would\",\"y'all'd've\": \"you all would have\",\n",
        "                       \"y'all're\": \"you all are\",\"y'all've\": \"you all have\",\"you'd\": \"you would\",\n",
        "                       \"you'd've\": \"you would have\", \"you'll\": \"you will\", \n",
        "                       \"you'll've\": \"you will have\", \"you're\": \"you are\", \"you've\": \"you have\" }\n",
        "\n",
        "def clean_contractions(text, mapping):\n",
        "    specials = [\"’\", \"‘\", \"´\", \"`\"]\n",
        "    for s in specials:\n",
        "        text = text.replace(s, \"'\")\n",
        "    text = ' '.join([mapping[t] if t in mapping else t for t in text.split(\" \")])\n",
        "    return text\n"
      ],
      "execution_count": 8,
      "outputs": []
    },
    {
      "cell_type": "code",
      "metadata": {
        "id": "k4CRyYt7JY_d"
      },
      "source": [
        "punct = \"/-'?!.,#$%\\'()*+-/:;<=>@[\\\\]^_`{|}~\" + '\"\"“”’' + '∞θ÷α•à−β∅³π‘₹´°£€\\×™√²—–&'\n",
        "\n",
        "punct_mapping = {\"‘\": \"'\", \"₹\": \"e\", \"´\": \"'\", \"°\": \"\", \"€\": \"e\", \"™\": \"tm\", \"√\": \" sqrt \", \n",
        "                 \"×\": \"x\", \"²\": \"2\", \"—\": \"-\", \"–\": \"-\", \"’\": \"'\", \"_\": \"-\", \"`\": \"'\", '“': '\"', \n",
        "                 '”': '\"', '“': '\"', \"£\": \"e\", '∞': 'infinity', 'θ': 'theta', '÷': '/', \n",
        "                 'α': 'alpha', '•': '.', 'à': 'a', '−': '-', 'β': 'beta', '∅': '', '³': '3', \n",
        "                 'π': 'pi', }\n",
        "\n",
        "def clean_special_chars(text, punct, mapping):\n",
        "    for p in mapping:\n",
        "        text = text.replace(p, mapping[p])\n",
        "    \n",
        "    for p in punct:\n",
        "        text = text.replace(p, f' {p} ')\n",
        "    \n",
        "    specials = {'\\u200b': ' ', '…': ' ... ', '\\ufeff': '', 'करना': '', 'है': ''}  # Other special characters that I have to deal with in last\n",
        "    for s in specials:\n",
        "        text = text.replace(s, specials[s])\n",
        "    \n",
        "    return text"
      ],
      "execution_count": 9,
      "outputs": []
    },
    {
      "cell_type": "code",
      "metadata": {
        "id": "Tdl5KJplJZCF"
      },
      "source": [
        "mispell_dict = {'colour': 'color', 'centre': 'center', 'favourite': 'favorite', \n",
        "                'travelling': 'traveling', 'counselling': 'counseling', 'theatre': 'theater', \n",
        "                'cancelled': 'canceled', 'labour': 'labor', 'organisation': 'organization', \n",
        "                'wwii': 'world war 2', 'citicise': 'criticize', 'youtu ': 'youtube ', \n",
        "                'Qoura': 'Quora', 'sallary': 'salary', 'Whta': 'What', 'narcisist': 'narcissist',\n",
        "                'howdo': 'how do', 'whatare': 'what are', 'howcan': 'how can', \n",
        "                'howmuch': 'how much', 'howmany': 'how many', 'whydo': 'why do', 'doI': 'do I', \n",
        "                'theBest': 'the best', 'howdoes': 'how does', 'mastrubation': 'masturbation', \n",
        "                'mastrubate': 'masturbate', \"mastrubating\": 'masturbating', 'pennis': 'penis', \n",
        "                'Etherium': 'Ethereum', 'narcissit': 'narcissist', 'bigdata': 'big data', \n",
        "                '2k17': '2017', '2k18': '2018', 'qouta': 'quota', 'exboyfriend': 'ex boyfriend', \n",
        "                'airhostess': 'air hostess', \"whst\": 'what', 'watsapp': 'whatsapp', \n",
        "                'demonitisation': 'demonetization', 'demonitization': 'demonetization', \n",
        "                'demonetisation': 'demonetization', 'pokémon': 'pokemon'}\n",
        "\n",
        "def correct_spelling(x, dic):\n",
        "    for word in dic.keys():\n",
        "        x = x.replace(word, dic[word])\n",
        "    return x\n"
      ],
      "execution_count": 10,
      "outputs": []
    },
    {
      "cell_type": "code",
      "metadata": {
        "id": "Zi4L_YZmJZEd"
      },
      "source": [
        "# Converting to lower case\n",
        "train['question_text'] = train['question_text'].apply(lambda x: x.lower())\n",
        "\n",
        "# Clean contrction\n",
        "train['question_text'] = train['question_text'].apply(lambda x: clean_contractions(x, contraction_mapping))\n",
        "\n",
        "# Special Character\n",
        "train['question_text'] = train['question_text'].apply(lambda x: clean_special_chars(x, punct, punct_mapping))\n",
        "\n",
        "# Spelling mistakes\n",
        "train['question_text'] = train['question_text'].apply(lambda x: correct_spelling(x, mispell_dict))\n"
      ],
      "execution_count": 11,
      "outputs": []
    },
    {
      "cell_type": "markdown",
      "metadata": {
        "id": "pjjf2GvTKGUA"
      },
      "source": [
        "# What you need to do for more cleaning/preprocessing?\n",
        "\n",
        "    Remove unknown word\n",
        "    Replace acronyms with a same meaning word\n",
        "\n"
      ]
    },
    {
      "cell_type": "code",
      "metadata": {
        "id": "edpP36fWlqhB"
      },
      "source": [
        "## some config values \n",
        "embed_size = 300 \n",
        "max_features = 50000 \n",
        "maxlen = 100 "
      ],
      "execution_count": 12,
      "outputs": []
    },
    {
      "cell_type": "code",
      "metadata": {
        "id": "yQdWPvuFJZHW"
      },
      "source": [
        "X = train['question_text'].values\n",
        "y = train['target'].values \n",
        "\n",
        "test_x = test['question_text'].values  "
      ],
      "execution_count": 13,
      "outputs": []
    },
    {
      "cell_type": "code",
      "metadata": {
        "id": "ZZeFUhyKJZJu"
      },
      "source": [
        "train_x, valid_x, train_y, valid_y = train_test_split(X, y, \n",
        "                                                      test_size=.1, \n",
        "                                                      random_state=42,\n",
        "                                                      stratify=y\n",
        "                                                     )"
      ],
      "execution_count": 14,
      "outputs": []
    },
    {
      "cell_type": "code",
      "metadata": {
        "colab": {
          "base_uri": "https://localhost:8080/"
        },
        "id": "s87GplW8ZKYJ",
        "outputId": "8346c579-fb4e-4ca5-abc0-18a5a5133af0"
      },
      "source": [
        "print(len(train_x), len(valid_x), len(train_y), len(valid_y))"
      ],
      "execution_count": 15,
      "outputs": [
        {
          "output_type": "stream",
          "text": [
            "1175509 130613 1175509 130613\n"
          ],
          "name": "stdout"
        }
      ]
    },
    {
      "cell_type": "code",
      "metadata": {
        "id": "DMynI33ueF9C"
      },
      "source": [
        "tokenizer = Tokenizer(num_words=max_features)\n",
        "#full_text = list(train_x) + list(valid_x) \n",
        "tokenizer.fit_on_texts(train_x) "
      ],
      "execution_count": 16,
      "outputs": []
    },
    {
      "cell_type": "code",
      "metadata": {
        "id": "AcndffB8eF_9"
      },
      "source": [
        "train_x = tokenizer.texts_to_sequences(train_x)\n",
        "valid_x = tokenizer.texts_to_sequences(valid_x)\n",
        "test_x = tokenizer.texts_to_sequences(test_x)\n",
        "\n",
        "\n",
        "## Pad the sentences \n",
        "train_x = pad_sequences(train_x, maxlen=maxlen)\n",
        "valid_x = pad_sequences(valid_x, maxlen=maxlen)\n",
        "test_x = pad_sequences(test_x, maxlen=maxlen)\n",
        "\n"
      ],
      "execution_count": 17,
      "outputs": []
    },
    {
      "cell_type": "markdown",
      "metadata": {
        "id": "0oB7xJxMKOUP"
      },
      "source": [
        "# using Glove Pretrained Embedding"
      ]
    },
    {
      "cell_type": "markdown",
      "metadata": {
        "id": "dmcfQhU4KXiT"
      },
      "source": [
        "We have four different types of embeddings.\n",
        "\n",
        "GoogleNews-vectors-negative300 - https://code.google.com/archive/p/word2vec/\n",
        "\n",
        "glove.840B.300d - https://nlp.stanford.edu/projects/glove/\n",
        "\n",
        "paragram_300_sl999 - https://cogcomp.org/page/resource_view/106\n",
        "\n",
        "wiki-news-300d-1M - https://fasttext.cc/docs/en/english-vectors.html\n",
        "\n",
        "A very good explanation for different types of embeddings are given in this kernel. Please refer the same for more details..\n"
      ]
    },
    {
      "cell_type": "code",
      "metadata": {
        "id": "V-_nDzF_OOgN"
      },
      "source": [
        ""
      ],
      "execution_count": 17,
      "outputs": []
    },
    {
      "cell_type": "code",
      "metadata": {
        "colab": {
          "base_uri": "https://localhost:8080/"
        },
        "id": "QXuIkqCIJZMh",
        "outputId": "0d1e1089-d4a5-47f9-d3cb-d901c6a25122"
      },
      "source": [
        "glove_emb = '/content/drive/MyDrive/Colab Folder/Quora Insincere Question/glove.840B.300d.txt' \n",
        "\n",
        "def get_coefs(word,*arr): \n",
        "  return word, np.asarray(arr, dtype='float32')\n",
        "\n",
        "embeddings_index = dict(get_coefs(*o.split(\" \")) for o in open(glove_emb))\n",
        "\n",
        "all_embs = np.stack(embeddings_index.values())\n",
        "emb_mean,emb_std = all_embs.mean(), all_embs.std()\n",
        "embed_size = all_embs.shape[1]\n",
        "\n",
        "\n",
        "word_index = tokenizer.word_index\n",
        "nb_words = min(max_features, len(word_index))\n",
        "embedding_matrix = np.random.normal(emb_mean, emb_std, (nb_words, embed_size))\n",
        "for word, i in word_index.items():\n",
        "    if i >= max_features: continue\n",
        "    embedding_vector = embeddings_index.get(word)\n",
        "    if embedding_vector is not None: embedding_matrix[i] = embedding_vector\n"
      ],
      "execution_count": 18,
      "outputs": [
        {
          "output_type": "stream",
          "text": [
            "/usr/local/lib/python3.7/dist-packages/IPython/core/interactiveshell.py:2822: FutureWarning:\n",
            "\n",
            "arrays to stack must be passed as a \"sequence\" type such as list or tuple. Support for non-sequence iterables such as generators is deprecated as of NumPy 1.16 and will raise an error in the future.\n",
            "\n"
          ],
          "name": "stderr"
        }
      ]
    },
    {
      "cell_type": "code",
      "metadata": {
        "id": "MJ8yw2-pJZPI"
      },
      "source": [
        "input = Input(shape=(maxlen,))\n",
        "x = Embedding(max_features, embed_size)(input)\n",
        "x = Bidirectional(GRU(64, return_sequences=True))(x)\n",
        "x = GlobalMaxPool1D()(x)\n",
        "x = Dense(16, activation='relu')(x)\n",
        "x = Dropout(0.1)(x)\n",
        "x = Dense(1, activation='sigmoid')(x)\n",
        "\n",
        "model = Model(inputs=input, outputs=x)\n"
      ],
      "execution_count": 19,
      "outputs": []
    },
    {
      "cell_type": "code",
      "metadata": {
        "id": "9GyDVyVzJZR9"
      },
      "source": [
        "model.compile(loss='binary_crossentropy', \n",
        "              optimizer='adam', \n",
        "              metrics=['accuracy'])"
      ],
      "execution_count": 20,
      "outputs": []
    },
    {
      "cell_type": "code",
      "metadata": {
        "id": "jfGY0erzJZUq",
        "colab": {
          "base_uri": "https://localhost:8080/"
        },
        "outputId": "bc9ee1b2-c128-460c-fd78-8bda7d12c3eb"
      },
      "source": [
        "model.summary()"
      ],
      "execution_count": 21,
      "outputs": [
        {
          "output_type": "stream",
          "text": [
            "Model: \"model\"\n",
            "_________________________________________________________________\n",
            "Layer (type)                 Output Shape              Param #   \n",
            "=================================================================\n",
            "input_1 (InputLayer)         [(None, 100)]             0         \n",
            "_________________________________________________________________\n",
            "embedding (Embedding)        (None, 100, 300)          15000000  \n",
            "_________________________________________________________________\n",
            "bidirectional (Bidirectional (None, 100, 128)          140544    \n",
            "_________________________________________________________________\n",
            "global_max_pooling1d (Global (None, 128)               0         \n",
            "_________________________________________________________________\n",
            "dense (Dense)                (None, 16)                2064      \n",
            "_________________________________________________________________\n",
            "dropout (Dropout)            (None, 16)                0         \n",
            "_________________________________________________________________\n",
            "dense_1 (Dense)              (None, 1)                 17        \n",
            "=================================================================\n",
            "Total params: 15,142,625\n",
            "Trainable params: 15,142,625\n",
            "Non-trainable params: 0\n",
            "_________________________________________________________________\n"
          ],
          "name": "stdout"
        }
      ]
    },
    {
      "cell_type": "code",
      "metadata": {
        "id": "8xmDO7oVJZXM"
      },
      "source": [
        "checkpoints = ModelCheckpoint('weight.hdf5', \n",
        "                               monitor='val_loss', \n",
        "                               mode='max', \n",
        "                               verbose=True, \n",
        "                               save_best_only=True)\n",
        "\n",
        "reduce_lr = ReduceLROnPlateau(monitor='val_loss', \n",
        "                              factor=0.1, \n",
        "                              patience=2, \n",
        "                              verbose=1, \n",
        "                              min_lr=0.000001)"
      ],
      "execution_count": 22,
      "outputs": []
    },
    {
      "cell_type": "code",
      "metadata": {
        "id": "ib89dIv7JZZd",
        "colab": {
          "base_uri": "https://localhost:8080/"
        },
        "outputId": "bebabda8-50a4-4d02-eb29-5985d8f5ba4d"
      },
      "source": [
        "history = model.fit(train_x, train_y, \n",
        "          batch_size=512, \n",
        "          epochs=12, \n",
        "          validation_data=(valid_x, valid_y),\n",
        "          callbacks=[checkpoints, reduce_lr])"
      ],
      "execution_count": 23,
      "outputs": [
        {
          "output_type": "stream",
          "text": [
            "Epoch 1/12\n",
            "2296/2296 [==============================] - 694s 288ms/step - loss: 0.1531 - accuracy: 0.9465 - val_loss: 0.1085 - val_accuracy: 0.9566\n",
            "\n",
            "Epoch 00001: val_loss improved from -inf to 0.10849, saving model to weight.hdf5\n",
            "Epoch 2/12\n",
            "2296/2296 [==============================] - 650s 283ms/step - loss: 0.0983 - accuracy: 0.9608 - val_loss: 0.1059 - val_accuracy: 0.9579\n",
            "\n",
            "Epoch 00002: val_loss did not improve from 0.10849\n",
            "Epoch 3/12\n",
            "2296/2296 [==============================] - 641s 279ms/step - loss: 0.0822 - accuracy: 0.9670 - val_loss: 0.1132 - val_accuracy: 0.9577\n",
            "\n",
            "Epoch 00003: val_loss improved from 0.10849 to 0.11317, saving model to weight.hdf5\n",
            "Epoch 4/12\n",
            "2296/2296 [==============================] - 653s 285ms/step - loss: 0.0660 - accuracy: 0.9738 - val_loss: 0.1306 - val_accuracy: 0.9550\n",
            "\n",
            "Epoch 00004: val_loss improved from 0.11317 to 0.13062, saving model to weight.hdf5\n",
            "\n",
            "Epoch 00004: ReduceLROnPlateau reducing learning rate to 0.00010000000474974513.\n",
            "Epoch 5/12\n",
            "2296/2296 [==============================] - 653s 284ms/step - loss: 0.0471 - accuracy: 0.9817 - val_loss: 0.1524 - val_accuracy: 0.9530\n",
            "\n",
            "Epoch 00005: val_loss improved from 0.13062 to 0.15243, saving model to weight.hdf5\n",
            "Epoch 6/12\n",
            "2296/2296 [==============================] - 650s 283ms/step - loss: 0.0404 - accuracy: 0.9844 - val_loss: 0.1693 - val_accuracy: 0.9528\n",
            "\n",
            "Epoch 00006: val_loss improved from 0.15243 to 0.16929, saving model to weight.hdf5\n",
            "\n",
            "Epoch 00006: ReduceLROnPlateau reducing learning rate to 1.0000000474974514e-05.\n",
            "Epoch 7/12\n",
            "2296/2296 [==============================] - 651s 283ms/step - loss: 0.0356 - accuracy: 0.9864 - val_loss: 0.1724 - val_accuracy: 0.9525\n",
            "\n",
            "Epoch 00007: val_loss improved from 0.16929 to 0.17245, saving model to weight.hdf5\n",
            "Epoch 8/12\n",
            "2296/2296 [==============================] - 658s 286ms/step - loss: 0.0353 - accuracy: 0.9867 - val_loss: 0.1745 - val_accuracy: 0.9522\n",
            "\n",
            "Epoch 00008: val_loss improved from 0.17245 to 0.17450, saving model to weight.hdf5\n",
            "\n",
            "Epoch 00008: ReduceLROnPlateau reducing learning rate to 1.0000000656873453e-06.\n",
            "Epoch 9/12\n",
            "2296/2296 [==============================] - 660s 287ms/step - loss: 0.0343 - accuracy: 0.9871 - val_loss: 0.1749 - val_accuracy: 0.9523\n",
            "\n",
            "Epoch 00009: val_loss improved from 0.17450 to 0.17491, saving model to weight.hdf5\n",
            "Epoch 10/12\n",
            "2296/2296 [==============================] - 657s 286ms/step - loss: 0.0348 - accuracy: 0.9868 - val_loss: 0.1752 - val_accuracy: 0.9522\n",
            "\n",
            "Epoch 00010: val_loss improved from 0.17491 to 0.17515, saving model to weight.hdf5\n",
            "\n",
            "Epoch 00010: ReduceLROnPlateau reducing learning rate to 1e-06.\n",
            "Epoch 11/12\n",
            "2296/2296 [==============================] - 654s 285ms/step - loss: 0.0345 - accuracy: 0.9868 - val_loss: 0.1753 - val_accuracy: 0.9522\n",
            "\n",
            "Epoch 00011: val_loss improved from 0.17515 to 0.17531, saving model to weight.hdf5\n",
            "Epoch 12/12\n",
            "2296/2296 [==============================] - 652s 284ms/step - loss: 0.0344 - accuracy: 0.9869 - val_loss: 0.1756 - val_accuracy: 0.9523\n",
            "\n",
            "Epoch 00012: val_loss improved from 0.17531 to 0.17559, saving model to weight.hdf5\n"
          ],
          "name": "stdout"
        }
      ]
    },
    {
      "cell_type": "code",
      "metadata": {
        "id": "aKlZl7RxJZcW",
        "colab": {
          "base_uri": "https://localhost:8080/",
          "height": 500
        },
        "outputId": "da7dce46-a8a6-47ef-8160-22c0b157b7ac"
      },
      "source": [
        "plt.figure(figsize=(12, 8))\n",
        "plt.plot(history.history['accuracy'], label='Train Accuracy', color='green')\n",
        "plt.plot(history.history['val_accuracy'], label='Validation Accuracy', color='red')\n",
        "plt.plot(history.history['loss'], label='Train Loss', color='green')\n",
        "plt.plot(history.history['val_loss'], label='Validation Loss', color='red')"
      ],
      "execution_count": 26,
      "outputs": [
        {
          "output_type": "execute_result",
          "data": {
            "text/plain": [
              "[<matplotlib.lines.Line2D at 0x7fe18b1d8090>]"
            ]
          },
          "metadata": {
            "tags": []
          },
          "execution_count": 26
        },
        {
          "output_type": "display_data",
          "data": {
            "image/png": "[encoded data removed]",
            "text/plain": [
              "<Figure size 864x576 with 1 Axes>"
            ]
          },
          "metadata": {
            "tags": [],
            "needs_background": "light"
          }
        }
      ]
    },
    {
      "cell_type": "code",
      "metadata": {
        "id": "FkLq4zpyJZfb",
        "colab": {
          "base_uri": "https://localhost:8080/"
        },
        "outputId": "a5939a9b-3d7e-4085-b59b-da0bfd32484e"
      },
      "source": [
        "pred_val_y = model.predict([valid_x], batch_size=1024, verbose=1)\n",
        "\n",
        "for thresh in np.arange(0.1, 0.501, 0.01):\n",
        "    thresh = np.round(thresh, 2)\n",
        "    print(\"F1 score at threshold {} is {}\".format(thresh, f1_score(valid_y, (pred_val_y > thresh).astype(int))))\n"
      ],
      "execution_count": 27,
      "outputs": [
        {
          "output_type": "stream",
          "text": [
            "128/128 [==============================] - 10s 73ms/step\n",
            "F1 score at threshold 0.1 is 0.5937973532680068\n",
            "F1 score at threshold 0.11 is 0.597843307609751\n",
            "F1 score at threshold 0.12 is 0.6009316770186336\n",
            "F1 score at threshold 0.13 is 0.6021156263091747\n",
            "F1 score at threshold 0.14 is 0.6038394415357765\n",
            "F1 score at threshold 0.15 is 0.6048868971404183\n",
            "F1 score at threshold 0.16 is 0.6049814406369358\n",
            "F1 score at threshold 0.17 is 0.6055871982641715\n",
            "F1 score at threshold 0.18 is 0.6063486860077583\n",
            "F1 score at threshold 0.19 is 0.6072451001981943\n",
            "F1 score at threshold 0.2 is 0.6073646850044365\n",
            "F1 score at threshold 0.21 is 0.6069373847958442\n",
            "F1 score at threshold 0.22 is 0.6071428571428571\n",
            "F1 score at threshold 0.23 is 0.6086069059363837\n",
            "F1 score at threshold 0.24 is 0.6083732603239791\n",
            "F1 score at threshold 0.25 is 0.608071645903898\n",
            "F1 score at threshold 0.26 is 0.6081932166175537\n",
            "F1 score at threshold 0.27 is 0.6090090090090089\n",
            "F1 score at threshold 0.28 is 0.6088276506305464\n",
            "F1 score at threshold 0.29 is 0.608072381176194\n",
            "F1 score at threshold 0.3 is 0.6079659614702754\n",
            "F1 score at threshold 0.31 is 0.6085923108919127\n",
            "F1 score at threshold 0.32 is 0.6087787399223649\n",
            "F1 score at threshold 0.33 is 0.6078243129725188\n",
            "F1 score at threshold 0.34 is 0.6079449408355468\n",
            "F1 score at threshold 0.35 is 0.6078098471986416\n",
            "F1 score at threshold 0.36 is 0.6067511576894955\n",
            "F1 score at threshold 0.37 is 0.6066356513222331\n",
            "F1 score at threshold 0.38 is 0.6065936769590355\n",
            "F1 score at threshold 0.39 is 0.6057834898665347\n",
            "F1 score at threshold 0.4 is 0.6039001366289901\n",
            "F1 score at threshold 0.41 is 0.6033547421587578\n",
            "F1 score at threshold 0.42 is 0.6030094043887148\n",
            "F1 score at threshold 0.43 is 0.6006804435483871\n",
            "F1 score at threshold 0.44 is 0.6003799873337556\n",
            "F1 score at threshold 0.45 is 0.5995673749840946\n",
            "F1 score at threshold 0.46 is 0.5981965850227026\n",
            "F1 score at threshold 0.47 is 0.5962181631077952\n",
            "F1 score at threshold 0.48 is 0.5944268442490463\n",
            "F1 score at threshold 0.49 is 0.5932666060054596\n",
            "F1 score at threshold 0.5 is 0.5930521091811414\n"
          ],
          "name": "stdout"
        }
      ]
    },
    {
      "cell_type": "code",
      "metadata": {
        "id": "HzSpUd-_JZh2",
        "colab": {
          "base_uri": "https://localhost:8080/"
        },
        "outputId": "58e158b1-beb4-4a3b-8c6c-68724acdebe8"
      },
      "source": [
        "test_y = model.predict([test_x], batch_size=1024, verbose=1) \n",
        "test_y"
      ],
      "execution_count": 28,
      "outputs": [
        {
          "output_type": "stream",
          "text": [
            "367/367 [==============================] - 27s 73ms/step\n"
          ],
          "name": "stdout"
        },
        {
          "output_type": "execute_result",
          "data": {
            "text/plain": [
              "array([[9.7748876e-01],\n",
              "       [7.0391287e-08],\n",
              "       [1.2819999e-06],\n",
              "       ...,\n",
              "       [1.3032778e-06],\n",
              "       [4.5364931e-10],\n",
              "       [1.2749365e-02]], dtype=float32)"
            ]
          },
          "metadata": {
            "tags": []
          },
          "execution_count": 28
        }
      ]
    },
    {
      "cell_type": "code",
      "metadata": {
        "id": "yeLbcIrxJZk-"
      },
      "source": [
        ""
      ],
      "execution_count": null,
      "outputs": []
    },
    {
      "cell_type": "code",
      "metadata": {
        "id": "4huS7OWKx9P1"
      },
      "source": [
        ""
      ],
      "execution_count": null,
      "outputs": []
    },
    {
      "cell_type": "markdown",
      "metadata": {
        "id": "ZY6weE0ELWgG"
      },
      "source": [
        "# Without Pretrained Embedding"
      ]
    },
    {
      "cell_type": "markdown",
      "metadata": {
        "id": "YBG1NwA2Lag6"
      },
      "source": [
        "### Checking Null"
      ]
    },
    {
      "cell_type": "code",
      "metadata": {
        "id": "6KQmts-PJZtp",
        "colab": {
          "base_uri": "https://localhost:8080/"
        },
        "outputId": "e22e85b1-6946-4fbf-eccb-b364699ca284"
      },
      "source": [
        "# Checking null in both train and test\n",
        "train.isna().sum()"
      ],
      "execution_count": null,
      "outputs": [
        {
          "output_type": "execute_result",
          "data": {
            "text/plain": [
              "qid              0\n",
              "question_text    0\n",
              "target           0\n",
              "dtype: int64"
            ]
          },
          "metadata": {
            "tags": []
          },
          "execution_count": 4
        }
      ]
    },
    {
      "cell_type": "code",
      "metadata": {
        "id": "-4fMlcQMJZws",
        "colab": {
          "base_uri": "https://localhost:8080/"
        },
        "outputId": "bd280b6e-af32-42a5-912e-b913054652c1"
      },
      "source": [
        "test.isna().sum()"
      ],
      "execution_count": null,
      "outputs": [
        {
          "output_type": "execute_result",
          "data": {
            "text/plain": [
              "qid              0\n",
              "question_text    0\n",
              "dtype: int64"
            ]
          },
          "metadata": {
            "tags": []
          },
          "execution_count": 5
        }
      ]
    },
    {
      "cell_type": "code",
      "metadata": {
        "id": "lrzh3yGX69V2"
      },
      "source": [
        "test_x = test['question_text']"
      ],
      "execution_count": null,
      "outputs": []
    },
    {
      "cell_type": "markdown",
      "metadata": {
        "id": "Tm4035u7LhoY"
      },
      "source": [
        "### Data Preprocessing"
      ]
    },
    {
      "cell_type": "code",
      "metadata": {
        "id": "VloRRcLsJZzk"
      },
      "source": [
        "contraction_mapping = {\"ain't\": \"is not\", \"aren't\": \"are not\",\"can't\": \"cannot\", \"'cause\": \"because\", \"could've\": \"could have\", \"couldn't\": \"could not\",\n",
        "                           \"didn't\": \"did not\",  \"doesn't\": \"does not\", \"don't\": \"do not\", \"hadn't\": \"had not\", \"hasn't\": \"has not\", \"haven't\": \"have not\",\n",
        "                           \"he'd\": \"he would\",\"he'll\": \"he will\", \"he's\": \"he is\", \"how'd\": \"how did\", \"how'd'y\": \"how do you\", \"how'll\": \"how will\", \"how's\": \"how is\",\n",
        "                           \"I'd\": \"I would\", \"I'd've\": \"I would have\", \"I'll\": \"I will\", \"I'll've\": \"I will have\",\"I'm\": \"I am\", \"I've\": \"I have\", \"i'd\": \"i would\",\n",
        "                           \"i'd've\": \"i would have\", \"i'll\": \"i will\",  \"i'll've\": \"i will have\",\"i'm\": \"i am\", \"i've\": \"i have\", \"isn't\": \"is not\", \"it'd\": \"it would\",\n",
        "                           \"it'd've\": \"it would have\", \"it'll\": \"it will\", \"it'll've\": \"it will have\",\"it's\": \"it is\", \"let's\": \"let us\", \"ma'am\": \"madam\",\n",
        "                           \"mayn't\": \"may not\", \"might've\": \"might have\",\"mightn't\": \"might not\",\"mightn't've\": \"might not have\", \"must've\": \"must have\",\n",
        "                           \"mustn't\": \"must not\", \"mustn't've\": \"must not have\", \"needn't\": \"need not\", \"needn't've\": \"need not have\",\"o'clock\": \"of the clock\",\n",
        "                           \"oughtn't\": \"ought not\", \"oughtn't've\": \"ought not have\", \"shan't\": \"shall not\", \"sha'n't\": \"shall not\", \"shan't've\": \"shall not have\",\n",
        "                           \"she'd\": \"she would\", \"she'd've\": \"she would have\", \"she'll\": \"she will\", \"she'll've\": \"she will have\", \"she's\": \"she is\",\n",
        "                           \"should've\": \"should have\", \"shouldn't\": \"should not\", \"shouldn't've\": \"should not have\", \"so've\": \"so have\",\"so's\": \"so as\",\n",
        "                           \"this's\": \"this is\",\"that'd\": \"that would\", \"that'd've\": \"that would have\", \"that's\": \"that is\", \"there'd\": \"there would\",\n",
        "                           \"there'd've\": \"there would have\", \"there's\": \"there is\", \"here's\": \"here is\",\"they'd\": \"they would\", \"they'd've\": \"they would have\",\n",
        "                           \"they'll\": \"they will\", \"they'll've\": \"they will have\", \"they're\": \"they are\", \"they've\": \"they have\", \"to've\": \"to have\",\n",
        "                           \"wasn't\": \"was not\", \"we'd\": \"we would\", \"we'd've\": \"we would have\", \"we'll\": \"we will\", \"we'll've\": \"we will have\", \"we're\": \"we are\",\n",
        "                           \"we've\": \"we have\", \"weren't\": \"were not\", \"what'll\": \"what will\", \"what'll've\": \"what will have\", \"what're\": \"what are\",\n",
        "                           \"what's\": \"what is\", \"what've\": \"what have\", \"when's\": \"when is\", \"when've\": \"when have\", \"where'd\": \"where did\", \"where's\": \"where is\",\n",
        "                           \"where've\": \"where have\", \"who'll\": \"who will\", \"who'll've\": \"who will have\", \"who's\": \"who is\", \"who've\": \"who have\",\n",
        "                           \"why's\": \"why is\", \"why've\": \"why have\", \"will've\": \"will have\", \"won't\": \"will not\", \"won't've\": \"will not have\",\n",
        "                           \"would've\": \"would have\", \"wouldn't\": \"would not\", \"wouldn't've\": \"would not have\", \"y'all\": \"you all\",\n",
        "                           \"y'all'd\": \"you all would\",\"y'all'd've\": \"you all would have\",\"y'all're\": \"you all are\",\"y'all've\": \"you all have\",\n",
        "                           \"you'd\": \"you would\", \"you'd've\": \"you would have\", \"you'll\": \"you will\", \"you'll've\": \"you will have\",\n",
        "                           \"you're\": \"you are\", \"you've\": \"you have\"}"
      ],
      "execution_count": null,
      "outputs": []
    },
    {
      "cell_type": "code",
      "metadata": {
        "id": "e17hLufoJZ2b"
      },
      "source": [
        "def clean_text(text):\n",
        "    text = text.lower()\n",
        "\n",
        "    # Remove punctuation\n",
        "    text = text.split()\n",
        "    table = str.maketrans('', '', string.punctuation)\n",
        "    text = [w.translate(table) for w in text]\n",
        "    text = \" \".join(text)\n",
        "\n",
        "    # Remove link\n",
        "    text = re.sub(r'http\\S+', '', text)\n",
        "\n",
        "    # Remove non-alphabetic word\n",
        "    text = [word for word in text.split() if word.isalpha()]\n",
        "    text = \" \".join(text) \n",
        "\n",
        "    # Replace contractions with their longer forms \n",
        "    text = ' '.join([contraction_mapping[t] if t in contraction_mapping else t for t in text.split(\" \")])   \n",
        "\n",
        "    # Optionally, remove stop words\n",
        "    stop_words = set(stopwords.words('english'))\n",
        "    text = [w for w in text.split() if not w in stop_words] \n",
        "    text = \" \".join(text) \n",
        "\n",
        "    # Stemming of the word \n",
        "    porter = PorterStemmer()\n",
        "    stemmed = [porter.stem(word) for word in text.split()] \n",
        "    text = \" \".join(stemmed) \n",
        "    \n",
        "    return text "
      ],
      "execution_count": null,
      "outputs": []
    },
    {
      "cell_type": "code",
      "metadata": {
        "id": "KybGEUpoJare"
      },
      "source": [
        "train['question_text'] = train['question_text'].apply(lambda x: clean_text(x))\n"
      ],
      "execution_count": null,
      "outputs": []
    },
    {
      "cell_type": "code",
      "metadata": {
        "id": "gwAl0aRK4XbI"
      },
      "source": [
        ""
      ],
      "execution_count": null,
      "outputs": []
    },
    {
      "cell_type": "markdown",
      "metadata": {
        "id": "-0o4muolLrPI"
      },
      "source": [
        "# Dividing the Train into train and valid"
      ]
    },
    {
      "cell_type": "code",
      "metadata": {
        "id": "nzZU0BB6JauW"
      },
      "source": [
        "train_df, valid_df = train_test_split(train, test_size=.2, \n",
        "                                      random_state=42, \n",
        "                                      stratify=train['target'])"
      ],
      "execution_count": null,
      "outputs": []
    },
    {
      "cell_type": "markdown",
      "metadata": {
        "id": "EqS55AUWLwsn"
      },
      "source": [
        "# Tokenizing and Pad Sequence"
      ]
    },
    {
      "cell_type": "code",
      "metadata": {
        "id": "_MboB7u9JaxT"
      },
      "source": [
        "embed_size = 300\n",
        "max_features = 50000\n",
        "maxlen = 100\n",
        "\n",
        "train_x = train_df['question_text'].values\n",
        "valid_x = valid_df['question_text'].values\n",
        "text_x = test['question_text'].values \n",
        "\n",
        "# Tokenizer \n",
        "tokenizer = Tokenizer(num_words=max_features)\n",
        "tokenizer.fit_on_texts(list(train_x))\n",
        "train_x = tokenizer.texts_to_sequences(train_x)\n",
        "valid_x = tokenizer.texts_to_sequences(valid_x)\n",
        "test_x = tokenizer.texts_to_sequences(test_x)\n",
        "\n",
        "# Pad Sequence\n",
        "train_x = pad_sequences(train_x, maxlen=maxlen) \n",
        "valid_x = pad_sequences(valid_x, maxlen=maxlen)\n",
        "test_x = pad_sequences(test_x, maxlen=maxlen)\n"
      ],
      "execution_count": null,
      "outputs": []
    },
    {
      "cell_type": "code",
      "metadata": {
        "id": "_fnOT9vLJaz3"
      },
      "source": [
        "train_y = train_df['target'].values\n",
        "valid_y = valid_df['target'].values"
      ],
      "execution_count": null,
      "outputs": []
    },
    {
      "cell_type": "markdown",
      "metadata": {
        "id": "dhhBqzq3L3dJ"
      },
      "source": [
        "# Model"
      ]
    },
    {
      "cell_type": "code",
      "metadata": {
        "id": "NNT8fYwY78z-"
      },
      "source": [
        "# ## some config values \n",
        "# embed_size = 300 \n",
        "# max_features = 50000 \n",
        "# maxlen = 100"
      ],
      "execution_count": null,
      "outputs": []
    },
    {
      "cell_type": "code",
      "metadata": {
        "id": "2N_h6PZEJa3B"
      },
      "source": [
        "# Building Model\n",
        "input = Input(shape=(maxlen,))\n",
        "x = Embedding(max_features, embed_size)(input)\n",
        "x = Bidirectional(GRU(64, return_sequences=True))(x)\n",
        "x = GlobalMaxPool1D()(x)\n",
        "x = Dense(16, activation='relu')(x)\n",
        "x = Dropout(0.1)(x)\n",
        "x = Dense(1, activation='sigmoid')(x)\n",
        "\n",
        "model = Model(inputs=input, outputs=x)"
      ],
      "execution_count": null,
      "outputs": []
    },
    {
      "cell_type": "code",
      "metadata": {
        "id": "LC8w-mU7Ja5t"
      },
      "source": [
        "# Compile Model\n",
        "model.compile(loss='binary_crossentropy', \n",
        "              optimizer='adam', \n",
        "              metrics=['accuracy'])"
      ],
      "execution_count": null,
      "outputs": []
    },
    {
      "cell_type": "code",
      "metadata": {
        "id": "PZo3mpGIL8oW",
        "colab": {
          "base_uri": "https://localhost:8080/"
        },
        "outputId": "e29245b6-1239-428d-d445-b679e7ee2fc3"
      },
      "source": [
        "model.summary()"
      ],
      "execution_count": null,
      "outputs": [
        {
          "output_type": "stream",
          "text": [
            "Model: \"model\"\n",
            "_________________________________________________________________\n",
            "Layer (type)                 Output Shape              Param #   \n",
            "=================================================================\n",
            "input_3 (InputLayer)         [(None, 100)]             0         \n",
            "_________________________________________________________________\n",
            "embedding_2 (Embedding)      (None, 100, 300)          15000000  \n",
            "_________________________________________________________________\n",
            "bidirectional (Bidirectional (None, 100, 128)          140544    \n",
            "_________________________________________________________________\n",
            "global_max_pooling1d (Global (None, 128)               0         \n",
            "_________________________________________________________________\n",
            "dense (Dense)                (None, 16)                2064      \n",
            "_________________________________________________________________\n",
            "dropout (Dropout)            (None, 16)                0         \n",
            "_________________________________________________________________\n",
            "dense_1 (Dense)              (None, 1)                 17        \n",
            "=================================================================\n",
            "Total params: 15,142,625\n",
            "Trainable params: 15,142,625\n",
            "Non-trainable params: 0\n",
            "_________________________________________________________________\n"
          ],
          "name": "stdout"
        }
      ]
    },
    {
      "cell_type": "markdown",
      "metadata": {
        "id": "SCH2RVlqMA6v"
      },
      "source": [
        "# Train Model"
      ]
    },
    {
      "cell_type": "code",
      "metadata": {
        "id": "eCbCpN4FL8rR",
        "colab": {
          "base_uri": "https://localhost:8080/"
        },
        "outputId": "324949c5-d282-4566-a3c1-803e402ee610"
      },
      "source": [
        "model.fit(train_x, train_y, \n",
        "          batch_size=512, \n",
        "          epochs=3, \n",
        "          validation_data=(valid_x, valid_y)) "
      ],
      "execution_count": null,
      "outputs": [
        {
          "output_type": "stream",
          "text": [
            "Epoch 1/3\n",
            "2041/2041 [==============================] - 619s 287ms/step - loss: 0.1598 - accuracy: 0.9445 - val_loss: 0.1155 - val_accuracy: 0.9541\n",
            "Epoch 2/3\n",
            "2041/2041 [==============================] - 579s 284ms/step - loss: 0.1066 - accuracy: 0.9579 - val_loss: 0.1153 - val_accuracy: 0.9543\n",
            "Epoch 3/3\n",
            "2041/2041 [==============================] - 583s 286ms/step - loss: 0.0932 - accuracy: 0.9630 - val_loss: 0.1196 - val_accuracy: 0.9547\n"
          ],
          "name": "stdout"
        },
        {
          "output_type": "execute_result",
          "data": {
            "text/plain": [
              "<tensorflow.python.keras.callbacks.History at 0x7f2520b2e150>"
            ]
          },
          "metadata": {
            "tags": []
          },
          "execution_count": 20
        }
      ]
    },
    {
      "cell_type": "code",
      "metadata": {
        "id": "Rko6noSTL8t4",
        "colab": {
          "base_uri": "https://localhost:8080/"
        },
        "outputId": "46f37609-bda9-4310-ce4b-9fe57080f9d0"
      },
      "source": [
        "# Now let us get the validation sample predictions and also get the best threshold for F1 score. \n",
        "valid_pred = model.predict([valid_x], batch_size=1024, verbose=1) \n",
        "\n",
        "for thresh in np.arange(0.1, 0.501, 0.01):\n",
        "    thresh = np.round(thresh, 2)\n",
        "    print(\"F1 Score at threshold {} is {}\".format(thresh, f1_score(valid_y, (valid_pred>thresh).astype(int))))\n",
        "    "
      ],
      "execution_count": null,
      "outputs": [
        {
          "output_type": "stream",
          "text": [
            "256/256 [==============================] - 19s 73ms/step\n",
            "F1 Score at threshold 0.1 is 0.5576368273612912\n",
            "F1 Score at threshold 0.11 is 0.5644560517189707\n",
            "F1 Score at threshold 0.12 is 0.571816727655192\n",
            "F1 Score at threshold 0.13 is 0.5777767833169247\n",
            "F1 Score at threshold 0.14 is 0.5832781721485473\n",
            "F1 Score at threshold 0.15 is 0.5885008260232216\n",
            "F1 Score at threshold 0.16 is 0.5932163187855788\n",
            "F1 Score at threshold 0.17 is 0.5972570987058141\n",
            "F1 Score at threshold 0.18 is 0.600805066025232\n",
            "F1 Score at threshold 0.19 is 0.6045676672982946\n",
            "F1 Score at threshold 0.2 is 0.607327455153542\n",
            "F1 Score at threshold 0.21 is 0.6105333436047556\n",
            "F1 Score at threshold 0.22 is 0.6120397854501901\n",
            "F1 Score at threshold 0.23 is 0.6136189747513389\n",
            "F1 Score at threshold 0.24 is 0.6155942710560067\n",
            "F1 Score at threshold 0.25 is 0.6164250162302531\n",
            "F1 Score at threshold 0.26 is 0.6179707605541258\n",
            "F1 Score at threshold 0.27 is 0.6185241589367299\n",
            "F1 Score at threshold 0.28 is 0.6185474609976752\n",
            "F1 Score at threshold 0.29 is 0.618049845473362\n",
            "F1 Score at threshold 0.3 is 0.6189589480619934\n",
            "F1 Score at threshold 0.31 is 0.6190117592538956\n",
            "F1 Score at threshold 0.32 is 0.6185723901782317\n",
            "F1 Score at threshold 0.33 is 0.617894830185333\n",
            "F1 Score at threshold 0.34 is 0.6175073918107697\n",
            "F1 Score at threshold 0.35 is 0.6170180677465087\n",
            "F1 Score at threshold 0.36 is 0.6159047299972588\n",
            "F1 Score at threshold 0.37 is 0.6144003936886784\n",
            "F1 Score at threshold 0.38 is 0.6137069715421897\n",
            "F1 Score at threshold 0.39 is 0.6125621499150355\n",
            "F1 Score at threshold 0.4 is 0.6104507024346831\n",
            "F1 Score at threshold 0.41 is 0.6076347641827463\n",
            "F1 Score at threshold 0.42 is 0.6051504929942917\n",
            "F1 Score at threshold 0.43 is 0.6037636876270409\n",
            "F1 Score at threshold 0.44 is 0.5999072171780767\n",
            "F1 Score at threshold 0.45 is 0.5977926421404682\n",
            "F1 Score at threshold 0.46 is 0.5951720873622287\n",
            "F1 Score at threshold 0.47 is 0.591854893908282\n",
            "F1 Score at threshold 0.48 is 0.5878036962691215\n",
            "F1 Score at threshold 0.49 is 0.5852652190636036\n",
            "F1 Score at threshold 0.5 is 0.5812703352666573\n"
          ],
          "name": "stdout"
        }
      ]
    },
    {
      "cell_type": "markdown",
      "metadata": {
        "id": "hY0SDDzRMMF5"
      },
      "source": [
        "# Predicting with test data"
      ]
    },
    {
      "cell_type": "code",
      "metadata": {
        "id": "Hcw3B5_jL8wt",
        "colab": {
          "base_uri": "https://localhost:8080/"
        },
        "outputId": "988ec529-e849-4bd4-f225-0ea01d8bb068"
      },
      "source": [
        "test_y = model.predict([test_x], batch_size=1024, verbose=1)\n",
        "test_y"
      ],
      "execution_count": null,
      "outputs": [
        {
          "output_type": "stream",
          "text": [
            "367/367 [==============================] - 26s 72ms/step\n"
          ],
          "name": "stdout"
        },
        {
          "output_type": "execute_result",
          "data": {
            "text/plain": [
              "array([[4.0836301e-02],\n",
              "       [7.5832992e-05],\n",
              "       [2.5001622e-03],\n",
              "       ...,\n",
              "       [2.7769132e-04],\n",
              "       [8.1535050e-04],\n",
              "       [1.5284970e-03]], dtype=float32)"
            ]
          },
          "metadata": {
            "tags": []
          },
          "execution_count": 23
        }
      ]
    },
    {
      "cell_type": "code",
      "metadata": {
        "id": "A0xTvwGV1eE_"
      },
      "source": [
        ""
      ],
      "execution_count": null,
      "outputs": []
    }
  ]
}